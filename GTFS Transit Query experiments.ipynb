{
 "cells": [
  {
   "cell_type": "code",
   "execution_count": 105,
   "metadata": {},
   "outputs": [],
   "source": [
    "# Importing the libraries\n",
    "import pandas as pd\n",
    "import geopandas as gpd\n",
    "import h5py\n",
    "import numpy as np\n",
    "import time\n",
    "import os\n",
    "import matplotlib.pyplot as plt\n",
    "from shapely.geometry import LineString"
   ]
  },
  {
   "cell_type": "markdown",
   "metadata": {},
   "source": [
    "# Efficient transit queries from r5py\n",
    "\n",
    "#### Problem Statement:\n",
    "The objective was to explore different strategies to create large random transit time queries from a r5py traveltime matrix.\n",
    "This includes writing a large dataset to an HDF5 file efficiently, querying id's from points, finding a closest point and finally querying transit times form two random points.\n",
    "\n",
    "## Experiment 1 - Storing travel time matrix\n",
    "The dataset, initially stored in a CSV file, contained a significant number of rows, with key columns like `from_id`, `to_id`, and `travel_time`. The challenge was to optimize the HDF5 file creation process considering factors like processing time, file size, and compression ratio.\n",
    "\n",
    "### Experimental Setup:\n",
    "Three different approaches were tested:\n",
    "1. **Direct Writing Through Pandas**: The first experiment involved writing the dataset directly to an HDF5 file using Pandas, without any preprocessing like NaN filtering or datatype conversion.\n",
    "   \n",
    "2. **Using Chunking and Compression**: The second experiment focused on preprocessing the data by filtering out NaN values, setting appropriate datatypes to save memory, and then writing the HDF5 file with both chunking and compression.\n",
    "\n",
    "3. **Compression Without Chunking**: The final experiment also involved preprocessing the data (NaN filtering and datatype conversion) but used compression without chunking when writing the HDF5 file.\n",
    "\n",
    "## Results:\n",
    "\n",
    "Here's a markdown table summarizing the results of the three experiments:\n",
    "\n",
    "| Strategy                                  | CSV File Size (bytes) | Total Rows Before Filtering | Total Rows After Filtering | Processing Time (seconds) | Writing Time (seconds) | HDF5 File Size (bytes) | Compression Ratio |\n",
    "|-------------------------------------------|-----------------------|-----------------------------|----------------------------|--------------------------|-----------------------|------------------------|-------------------|\n",
    "| Direct Writing Through Pandas             | 1,923,541,554         | 85,285,225                  | N/A                        | 33.42                    | 5.94                  | 43,748,297             | 43.97             |\n",
    "| Using Chunking and Compression            | 1,923,541,554         | 85,285,225                  | 6,383,010                  | 35.23                    | 1.73                  | 16,350,848             | 117.64            |\n",
    "| Compression Without Chunking              | 1,923,541,554         | 85,285,225                  | 6,383,010                  | 34.65                    | 0.67                  | 6,701,225              | 287.04            |\n",
    "\n",
    "This table provides a clear comparison of the different strategies, highlighting the impact of preprocessing, chunking, and compression on the efficiency of writing large datasets to HDF5 files.\n",
    "\n",
    "## Experiment 2 - Querying\n",
    "\n",
    "Now we setup a simple object that turns this hdf5 into a dict for fast querying\n",
    "\n",
    "Obviously the fastest load time comes from the hdf5 with the best compression\n",
    "\n",
    "### Experiment Overview\n",
    "\n",
    "In this experiment, we explored the efficiency of querying origin-destination (OD) pairs from a preprocessed OD matrix stored in an optimized data structure. The primary goal was to assess the performance scalability of the query process as the number of queried pairs increased. This is crucial for applications requiring rapid access to OD travel times, such as dynamic routing algorithms, traffic simulation models, and various geospatial analyses.\n",
    "\n",
    "### Results\n",
    "\n",
    "The results are summarized in the table below, showing both the total time taken to query a set number of OD pairs and the average time per individual query:\n",
    "\n",
    "| Number of Queries | Total Query Time (seconds) | Average Time Per Call (seconds) |\n",
    "|-------------------|----------------------------|---------------------------------|\n",
    "| 1                 | 0.000005                   | 0.000005                        |\n",
    "| 10                | 0.000023                   | 0.000002                        |\n",
    "| 100               | 0.000197                   | 0.000002                        |\n",
    "| 1,000             | 0.001486                   | 0.000001                        |\n",
    "| 10,000            | 0.012771                   | 0.000001                        |\n",
    "\n",
    "## Experiment 3: Querying Closest Points\n",
    "\n",
    "In this experiment, we tested two methods for querying the closest points to a set of random coordinates using a dataset of origin points. The two methods compared are:\n",
    "\n",
    "1. **get_closest_id function:** This method calculates the distance between each random coordinate and all origin points in the dataset and returns the ID of the closest origin point.\n",
    "\n",
    "2. **get_closest_id_tree function:** This method uses a BallTree spatial indexing structure to efficiently find the closest origin point to each random coordinate and returns the ID of the closest origin point.\n",
    "\n",
    "We measured the total time taken to query a varying number of random points and calculated the average time per query call for each method.\n",
    "\n",
    "### Results\n",
    "\n",
    "| Number of Random Points | get_closest_id (seconds) | get_closest_id_tree (seconds) |\n",
    "|-------------------------|--------------------------|-------------------------------|\n",
    "| 1                       | 0.015549                 | 0.000355                      |\n",
    "| 10                      | 0.140009                 | 0.001297                      |\n",
    "| 100                     | 1.309974                 | 0.013414                      |\n",
    "| 1000                    | 12.895093                | 0.111098                      |\n",
    "| 9000                    | 115.895936               | 1.005964                      |\n",
    "\n",
    "## Experiment 4 -  Combining it all\n",
    "\n",
    "Finally, what we really need is a way to get transit times between two random points.\n",
    "\n",
    "| Query Count | Total Time (seconds) | Average Time per Call (seconds) |\n",
    "|-------------|-----------------------|---------------------------------|\n",
    "| 1           | 2.058234              | 2.058234                        |\n",
    "| 10          | 2.055068              | 0.205507                        |\n",
    "| 100         | 2.097684              | 0.020977                        |\n",
    "| 1000        | 2.015695              | 0.002016                        |\n",
    "| 9000        | 2.032059              | 0.000226                        |\n",
    "\n",
    "This table summarizes the total time taken and the average time per call for querying different numbers of random OD pairs. While the total time remains the same, the average time per call is going down. This indicates that there is a 2 second overhead in the querying function.\n",
    "\n",
    "But this can be avoided if you don't want the overhead of objectifying this process."
   ]
  },
  {
   "cell_type": "code",
   "execution_count": 50,
   "metadata": {},
   "outputs": [],
   "source": [
    "path_to_csv = \"data/processed/transit_times_slow.csv\"\n",
    "path_to_hdf5 = \"data/processed/od_matrix.h5\"\n",
    "path_to_origins = \"data/processed/origins.csv\""
   ]
  },
  {
   "cell_type": "code",
   "execution_count": 25,
   "metadata": {},
   "outputs": [
    {
     "name": "stdout",
     "output_type": "stream",
     "text": [
      "Writing HDF5 directly through pandas\n",
      "Size of CSV file: 1923541554 bytes\n",
      "Total number of rows: 85285225\n",
      "Max of each column:\n",
      "Unnamed: 0     85285224.0\n",
      "from_id           16491.0\n",
      "to_id             16491.0\n",
      "travel_time         170.0\n",
      "dtype: float64\n",
      "Time for processing: 33.42 seconds\n",
      "Time for writing: 5.94 seconds\n",
      "Size of HDF5 file: 43748297 bytes\n",
      "Compression ratio: 43.97\n"
     ]
    }
   ],
   "source": [
    "print(\"Writing HDF5 directly through pandas\")\n",
    "\n",
    "# Start time for the entire process\n",
    "start_time = time.time()\n",
    "\n",
    "# Load the entire CSV into a DataFrame (ensure you have enough memory)\n",
    "df = pd.read_csv(path_to_csv)\n",
    "\n",
    "# Print size of csv file in bytes and total number of rows\n",
    "print(f\"Size of CSV file: {os.path.getsize(path_to_csv)} bytes\")\n",
    "print(f\"Total number of rows: {len(df)}\")\n",
    "\n",
    "# Print the max of each column\n",
    "print(\"Max of each column:\")\n",
    "print(df.max(axis=0))\n",
    "\n",
    "# Record and print time for processing (loading CSV)\n",
    "processing_time = time.time() - start_time\n",
    "print(f\"Time for processing: {processing_time:.2f} seconds\")\n",
    "\n",
    "# Write the DataFrame to an HDF5 file\n",
    "with h5py.File(path_to_hdf5, 'w') as hdf5_file:\n",
    "    # Create datasets for 'from_id', 'to_id', and 'travel_time'\n",
    "    hdf5_file.create_dataset('from_id', data=df['from_id'].to_numpy(), dtype='i2', compression='gzip')\n",
    "    hdf5_file.create_dataset('to_id', data=df['to_id'].to_numpy(), dtype='i2', compression='gzip')\n",
    "    hdf5_file.create_dataset('travel_time', data=df['travel_time'].to_numpy(), dtype='i2', compression='gzip')\n",
    "\n",
    "# Record and print time for writing HDF5\n",
    "writing_time = time.time() - start_time - processing_time\n",
    "print(f\"Time for writing: {writing_time:.2f} seconds\")\n",
    "\n",
    "# Print size of HDF5 file in bytes and the compression ratio\n",
    "hdf5_size = os.path.getsize(path_to_hdf5)\n",
    "print(f\"Size of HDF5 file: {hdf5_size} bytes\")\n",
    "print(f\"Compression ratio: {os.path.getsize(path_to_csv) / hdf5_size:.2f}\")"
   ]
  },
  {
   "cell_type": "code",
   "execution_count": 26,
   "metadata": {},
   "outputs": [
    {
     "name": "stdout",
     "output_type": "stream",
     "text": [
      " Writing HDF5 using chunking and compression, dropping nans and appropriate datatypes\n",
      "Size of CSV file: 1923541554 bytes\n",
      "Total number of rows before filtering: 85285225\n",
      "Total number of rows after filtering: 6383010\n",
      "Max of each column after processing:\n",
      "from_id        16491\n",
      "to_id          16491\n",
      "travel_time      170\n",
      "dtype: int16\n",
      "Time for processing: 35.23 seconds\n",
      "Time for writing: 1.73 seconds\n",
      "Size of HDF5 file: 16350848 bytes\n",
      "Compression ratio: 117.64\n"
     ]
    }
   ],
   "source": [
    "print( \" Writing HDF5 using chunking and compression, dropping nans and appropriate datatypes\")\n",
    "# Start time for the entire process\n",
    "start_time = time.time()\n",
    "\n",
    "# Load the entire CSV into a DataFrame (ensure you have enough memory)\n",
    "df = pd.read_csv(path_to_csv)\n",
    "\n",
    "# Print size of csv file in bytes, total number of rows, and max of each column\n",
    "print(f\"Size of CSV file: {os.path.getsize(path_to_csv)} bytes\")\n",
    "print(f\"Total number of rows before filtering: {len(df)}\")\n",
    "\n",
    "# Filter out rows with NaN values in the 'travel_time' column and drop the unnamed column\n",
    "df = df.dropna(subset=['travel_time']).drop(columns=['Unnamed: 0'])\n",
    "\n",
    "# Convert data types to save memory\n",
    "df = df.astype({'from_id': 'int16', 'to_id': 'int16', 'travel_time': 'int16'})\n",
    "\n",
    "# Print total number of rows after filtering and the max of each column\n",
    "print(f\"Total number of rows after filtering: {len(df)}\")\n",
    "print(\"Max of each column after processing:\")\n",
    "print(df.max(axis=0))\n",
    "\n",
    "# Record and print time for processing (loading and cleaning CSV)\n",
    "processing_time = time.time() - start_time\n",
    "print(f\"Time for processing: {processing_time:.2f} seconds\")\n",
    "\n",
    "# Write the DataFrame to an HDF5 file with chunking and compression\n",
    "chunk_size = (1000,)  # Adjust based on your dataset and access patterns\n",
    "with h5py.File(path_to_hdf5, 'w') as hdf5_file:\n",
    "    # Create datasets for 'from_id', 'to_id', and 'travel_time' with chunking and compression\n",
    "    hdf5_file.create_dataset('from_id', data=df['from_id'].to_numpy(), dtype='i2', compression='gzip', chunks=chunk_size)\n",
    "    hdf5_file.create_dataset('to_id', data=df['to_id'].to_numpy(), dtype='i2', compression='gzip', chunks=chunk_size)\n",
    "    hdf5_file.create_dataset('travel_time', data=df['travel_time'].to_numpy(), dtype='i2', compression='gzip', chunks=chunk_size)\n",
    "\n",
    "# Record and print time for writing HDF5\n",
    "writing_time = time.time() - start_time - processing_time\n",
    "print(f\"Time for writing: {writing_time:.2f} seconds\")\n",
    "\n",
    "# Print size of HDF5 file in bytes and the compression ratio\n",
    "hdf5_size = os.path.getsize(path_to_hdf5)\n",
    "print(f\"Size of HDF5 file: {hdf5_size} bytes\")\n",
    "print(f\"Compression ratio: {os.path.getsize(path_to_csv) / hdf5_size:.2f}\")"
   ]
  },
  {
   "cell_type": "code",
   "execution_count": 27,
   "metadata": {},
   "outputs": [
    {
     "name": "stdout",
     "output_type": "stream",
     "text": [
      " Writing HDF5 without chunking, but with compression, dropping nans and appropriate datatypes\n",
      "Size of CSV file: 1923541554 bytes\n",
      "Total number of rows before filtering: 85285225\n",
      "Total number of rows after filtering: 6383010\n",
      "Max of each column after processing:\n",
      "from_id        16491\n",
      "to_id          16491\n",
      "travel_time      170\n",
      "dtype: int16\n",
      "Time for processing: 34.65 seconds\n",
      "Time for writing: 0.67 seconds\n",
      "Size of HDF5 file: 6701225 bytes\n",
      "Compression ratio: 287.04\n"
     ]
    }
   ],
   "source": [
    "print( \" Writing HDF5 without chunking, but with compression, dropping nans and appropriate datatypes\")\n",
    "# Start time for the entire process\n",
    "start_time = time.time()\n",
    "\n",
    "# Load the entire CSV into a DataFrame (ensure you have enough memory)\n",
    "df = pd.read_csv(path_to_csv)\n",
    "\n",
    "# Print size of csv file in bytes, total number of rows, and max of each column\n",
    "print(f\"Size of CSV file: {os.path.getsize(path_to_csv)} bytes\")\n",
    "print(f\"Total number of rows before filtering: {len(df)}\")\n",
    "\n",
    "# Filter out rows with NaN values in the 'travel_time' column and drop the unnamed column\n",
    "df = df.dropna(subset=['travel_time']).drop(columns=['Unnamed: 0'])\n",
    "\n",
    "# Convert data types to save memory\n",
    "df = df.astype({'from_id': 'int16', 'to_id': 'int16', 'travel_time': 'int16'})\n",
    "\n",
    "# Print total number of rows after filtering and the max of each column\n",
    "print(f\"Total number of rows after filtering: {len(df)}\")\n",
    "print(\"Max of each column after processing:\")\n",
    "print(df.max(axis=0))\n",
    "\n",
    "# Record and print time for processing (loading and cleaning CSV)\n",
    "processing_time = time.time() - start_time\n",
    "print(f\"Time for processing: {processing_time:.2f} seconds\")\n",
    "\n",
    "# Write the DataFrame to an HDF5 file using only compression\n",
    "with h5py.File(path_to_hdf5, 'w') as hdf5_file:\n",
    "    # Create datasets for 'from_id', 'to_id', and 'travel_time' with compression\n",
    "    hdf5_file.create_dataset('from_id', data=df['from_id'].to_numpy(), dtype='i2', compression='gzip')\n",
    "    hdf5_file.create_dataset('to_id', data=df['to_id'].to_numpy(), dtype='i2', compression='gzip')\n",
    "    hdf5_file.create_dataset('travel_time', data=df['travel_time'].to_numpy(), dtype='i2', compression='gzip')\n",
    "\n",
    "# Record and print time for writing HDF5\n",
    "writing_time = time.time() - start_time - processing_time\n",
    "print(f\"Time for writing: {writing_time:.2f} seconds\")\n",
    "\n",
    "# Print size of HDF5 file in bytes and the compression ratio\n",
    "hdf5_size = os.path.getsize(path_to_hdf5)\n",
    "print(f\"Size of HDF5 file: {hdf5_size} bytes\")\n",
    "print(f\"Compression ratio: {os.path.getsize(path_to_csv) / hdf5_size:.2f}\")\n"
   ]
  },
  {
   "cell_type": "markdown",
   "metadata": {},
   "source": [
    "# Querying\n",
    "\n",
    "Now we setup a simple object that turns this hdf5 into a dict for fast querying\n",
    "\n",
    "Obviously the fastest load time comes from the hdf5 with the best compression\n",
    "\n",
    "### Experiment Overview\n",
    "\n",
    "In this experiment, we explored the efficiency of querying origin-destination (OD) pairs from a preprocessed OD matrix stored in an optimized data structure. The primary goal was to assess the performance scalability of the query process as the number of queried pairs increased. This is crucial for applications requiring rapid access to OD travel times, such as dynamic routing algorithms, traffic simulation models, and various geospatial analyses.\n",
    "\n",
    "### Results\n",
    "\n",
    "The results are summarized in the table below, showing both the total time taken to query a set number of OD pairs and the average time per individual query:\n",
    "\n",
    "| Number of Queries | Total Query Time (seconds) | Average Time Per Call (seconds) |\n",
    "|-------------------|----------------------------|---------------------------------|\n",
    "| 1                 | 0.000005                   | 0.000005                        |\n",
    "| 10                | 0.000023                   | 0.000002                        |\n",
    "| 100               | 0.000197                   | 0.000002                        |\n",
    "| 1,000             | 0.001486                   | 0.000001                        |\n",
    "| 10,000            | 0.012771                   | 0.000001                        |\n"
   ]
  },
  {
   "cell_type": "code",
   "execution_count": 228,
   "metadata": {},
   "outputs": [],
   "source": [
    "class ODMatrix:\n",
    "    def __init__(self, hdf5_path):\n",
    "        self.hdf5_path = hdf5_path\n",
    "        self.travel_times_dict = {}\n",
    "        self.preprocess_data()\n",
    "\n",
    "    def preprocess_data(self):\n",
    "        \"\"\"Preprocess the data from the HDF5 file and store it in a dictionary for fast lookups.\"\"\"\n",
    "        with h5py.File(self.hdf5_path, 'r') as hdf5_file:\n",
    "\n",
    "\n",
    "            # Proceed with the existing logic if datasets are present\n",
    "            dataset_size = hdf5_file['from_id'].shape[0]\n",
    "            batch_size = 10000  # Adjust based on your system's memory capacity\n",
    "\n",
    "            for i in range(0, dataset_size, batch_size):\n",
    "                from_ids = hdf5_file['from_id'][i:i+batch_size]\n",
    "                to_ids = hdf5_file['to_id'][i:i+batch_size]\n",
    "                travel_times = hdf5_file['travel_time'][i:i+batch_size]\n",
    "                \n",
    "                for from_id, to_id, travel_time in zip(from_ids, to_ids, travel_times):\n",
    "                    self.travel_times_dict[(from_id, to_id)] = travel_time\n",
    "\n",
    "    def query_travel_time(self, o_id, d_id):\n",
    "        \"\"\"Query the travel time for a given origin and destination ID pair.\"\"\"\n",
    "        return self.travel_times_dict.get((o_id, d_id), None)\n"
   ]
  },
  {
   "cell_type": "code",
   "execution_count": 229,
   "metadata": {},
   "outputs": [],
   "source": [
    "# Create an instance of the ODMatrix class\n",
    "od_matrix = ODMatrix(path_to_hdf5)"
   ]
  },
  {
   "cell_type": "code",
   "execution_count": 49,
   "metadata": {},
   "outputs": [],
   "source": [
    "\n",
    "# List of the number of OD pairs to query in each experiment\n",
    "num_pairs_list = [1, 10, 100, 1000, 10000]\n",
    "\n",
    "# Convert the dictionary keys to a list once, outside the loop\n",
    "od_pairs_list = list(od_matrix.travel_times_dict.keys())\n",
    "\n",
    "# Pre-generate all random OD pairs and store them\n",
    "random_od_pairs_dict = {}\n",
    "\n",
    "for num_pairs in num_pairs_list:\n",
    "    # Efficiently sample random OD pairs using random.sample()\n",
    "    random_od_pairs = random.sample(od_pairs_list, num_pairs)\n",
    "\n",
    "    # Store the random OD pairs\n",
    "    random_od_pairs_dict[num_pairs] = random_od_pairs\n"
   ]
  },
  {
   "cell_type": "code",
   "execution_count": 231,
   "metadata": {},
   "outputs": [
    {
     "name": "stdout",
     "output_type": "stream",
     "text": [
      "Travel time from 13614 to 13511: 54 minutes\n"
     ]
    }
   ],
   "source": [
    "o_id = 13614\n",
    "d_id = 13511\n",
    "travel_time = od_matrix.query_travel_time(o_id, d_id)\n",
    "print(f\"Travel time from {o_id} to {d_id}: {travel_time} minutes\")"
   ]
  },
  {
   "cell_type": "code",
   "execution_count": 48,
   "metadata": {},
   "outputs": [
    {
     "name": "stdout",
     "output_type": "stream",
     "text": [
      "Total time for querying 1 random OD pairs: 0.000005 seconds\n",
      "Average time per call: 0.000005 seconds\n",
      "Total time for querying 10 random OD pairs: 0.000023 seconds\n",
      "Average time per call: 0.000002 seconds\n",
      "Total time for querying 100 random OD pairs: 0.000197 seconds\n",
      "Average time per call: 0.000002 seconds\n",
      "Total time for querying 1000 random OD pairs: 0.001486 seconds\n",
      "Average time per call: 0.000001 seconds\n",
      "Total time for querying 10000 random OD pairs: 0.012771 seconds\n",
      "Average time per call: 0.000001 seconds\n"
     ]
    }
   ],
   "source": [
    "# Iterate over the stored OD pairs and measure query times\n",
    "for num_pairs, od_pairs in random_od_pairs_dict.items():\n",
    "    # Query the travel time for each origin-destination pair and measure the total time taken\n",
    "    start_time = time.perf_counter()\n",
    "    for o_id, d_id in od_pairs:\n",
    "        od_matrix.query_travel_time(o_id, d_id)\n",
    "    total_query_time = time.perf_counter() - start_time\n",
    "\n",
    "    # Calculate the average time per query call\n",
    "    time_per_call = total_query_time / num_pairs\n",
    "\n",
    "    # Print the total time and average time per call for querying the specified number of OD pairs\n",
    "    print(f\"Total time for querying {num_pairs} random OD pairs: {total_query_time:.6f} seconds\")\n",
    "    print(f\"Average time per call: {time_per_call:.6f} seconds\")\n"
   ]
  },
  {
   "cell_type": "code",
   "execution_count": 86,
   "metadata": {},
   "outputs": [
    {
     "name": "stderr",
     "output_type": "stream",
     "text": [
      "C:\\Users\\ssanjay\\AppData\\Local\\Temp\\ipykernel_36664\\1594984157.py:8: FutureWarning: The default value of regex will change from True to False in a future version. In addition, single character regular expressions will*not* be treated as literal strings when regex=True.\n",
      "  origins['geometry'] = origins['geometry'].str.replace('(', '')\n",
      "C:\\Users\\ssanjay\\AppData\\Local\\Temp\\ipykernel_36664\\1594984157.py:9: FutureWarning: The default value of regex will change from True to False in a future version. In addition, single character regular expressions will*not* be treated as literal strings when regex=True.\n",
      "  origins['geometry'] = origins['geometry'].str.replace(')', '')\n"
     ]
    }
   ],
   "source": [
    "# Load origins geodataframe\n",
    "# My data was dumped very laziy, so I need to do some cleaning\n",
    "# We only want the id and geometry columns\n",
    "origins = pd.read_csv(path_to_origins, usecols=['id', 'geometry'])\n",
    "\n",
    "# Clean \"POINT (633409.2592618781 6392221.667578839)\" to \"633409.2592618781 6392221.667578839\"\n",
    "origins['geometry'] = origins['geometry'].str.replace('POINT', '')\n",
    "origins['geometry'] = origins['geometry'].str.replace('(', '')\n",
    "origins['geometry'] = origins['geometry'].str.replace(')', '')\n",
    "\n",
    "# Split the string into two columns\n",
    "origins[['x', 'y']] = origins['geometry'].str.split(expand=True)\n",
    "\n",
    "# Turn into geo dataframe\n",
    "origins = gpd.GeoDataFrame(origins, geometry=gpd.points_from_xy(origins.x, origins.y))\n",
    "\n",
    "# Set crs to UTM as this is what osmnx identified for our data\n",
    "origins.crs = \"EPSG:32632\"\n",
    "\n",
    "# Transform to epsg 3006 since that is what I use in my project\n",
    "origins = origins.to_crs(\"EPSG:3006\")\n",
    "\n",
    "# Load csv to df\n",
    "df = pd.read_csv(path_to_csv)\n",
    "\n",
    "# Drop nan form travel time\n",
    "df = df.dropna(subset=['travel_time']).drop(columns=['Unnamed: 0'])\n",
    "\n",
    "# Get list of unique ids from from_id\n",
    "ids = df['from_id'].unique()\n",
    "\n",
    "# filter origins df to only include ids in the ids list\n",
    "origins = origins[origins['id'].isin(ids)]\n"
   ]
  },
  {
   "cell_type": "code",
   "execution_count": 116,
   "metadata": {},
   "outputs": [
    {
     "data": {
      "text/plain": [
       "<matplotlib.collections.PathCollection at 0x1d57dfe82b0>"
      ]
     },
     "execution_count": 116,
     "metadata": {},
     "output_type": "execute_result"
    },
    {
     "data": {
      "image/png": "[encoded data removed]",
      "text/plain": [
       "<Figure size 640x480 with 1 Axes>"
      ]
     },
     "metadata": {},
     "output_type": "display_data"
    }
   ],
   "source": [
    "ax = origins.plot(markersize=0.1)\n",
    "\n",
    "# Plot Chalmers and Central Station location in red\n",
    "o_x,o_y = 319838.63006660575,6398032.68584987\n",
    "d_x,d_y = 319654.0071406632, 6400282.674784801\n",
    "\n",
    "ax.scatter(o_x,o_y, color='red', s=10)\n",
    "\n",
    "ax.scatter(d_x,d_y, color='red', s=10)"
   ]
  },
  {
   "cell_type": "markdown",
   "metadata": {},
   "source": [
    "# Going from any random point to closest point\n",
    "\n",
    "## Experiment Summary: Querying Closest Points\n",
    "\n",
    "In this experiment, we tested two methods for querying the closest points to a set of random coordinates using a dataset of origin points. The two methods compared are:\n",
    "\n",
    "1. **get_closest_id function:** This method calculates the distance between each random coordinate and all origin points in the dataset and returns the ID of the closest origin point.\n",
    "\n",
    "2. **get_closest_id_tree function:** This method uses a BallTree spatial indexing structure to efficiently find the closest origin point to each random coordinate and returns the ID of the closest origin point.\n",
    "\n",
    "We measured the total time taken to query a varying number of random points and calculated the average time per query call for each method.\n",
    "\n",
    "### Results\n",
    "\n",
    "| Number of Random Points | get_closest_id (seconds) | get_closest_id_tree (seconds) |\n",
    "|-------------------------|--------------------------|-------------------------------|\n",
    "| 1                       | 0.015549                 | 0.000355                      |\n",
    "| 10                      | 0.140009                 | 0.001297                      |\n",
    "| 100                     | 1.309974                 | 0.013414                      |\n",
    "| 1000                    | 12.895093                | 0.111098                      |\n",
    "| 9000                    | 115.895936               | 1.005964                      |\n"
   ]
  },
  {
   "cell_type": "code",
   "execution_count": 209,
   "metadata": {},
   "outputs": [],
   "source": [
    "# Lets create a function that takes a lat lon and returns closest id. Since we are uswing 3006 we do not need to transform\n",
    "\n",
    "def get_closest_id(lat, lon,origins):\n",
    "    # Create a point from lat lon\n",
    "    point = gpd.points_from_xy([lon], [lat])\n",
    "    # Create a geodataframe from the point\n",
    "    point_gdf = gpd.GeoDataFrame(geometry=point)\n",
    "    # Set crs to epsg 3006\n",
    "    point_gdf.crs = \"EPSG:3006\"\n",
    "    # Find the closest id\n",
    "    closest_id = origins.loc[origins.distance(point_gdf.unary_union).idxmin(), 'id']\n",
    "    return closest_id"
   ]
  },
  {
   "cell_type": "code",
   "execution_count": 178,
   "metadata": {},
   "outputs": [
    {
     "name": "stdout",
     "output_type": "stream",
     "text": [
      "Time for processing: 0.0172 seconds\n",
      "13614\n"
     ]
    }
   ],
   "source": [
    "# Lets test the function using using o_x and o_y\n",
    "time_start = time.time()\n",
    "closest_id = get_closest_id(o_y, o_x, origins)\n",
    "# Print time for processing\n",
    "print(f\"Time for processing: {time.time() - time_start:.4f} seconds\")\n",
    "print(closest_id)"
   ]
  },
  {
   "cell_type": "code",
   "execution_count": 179,
   "metadata": {},
   "outputs": [],
   "source": [
    "# Lets turn this into a plotting function that takes a lat lon and returns the closest point and distance and plots it\n",
    "def plot_closest_point(lat, lon, origins, closest_id):\n",
    "    # Create a point from lat lon\n",
    "    point = gpd.points_from_xy([lon], [lat])\n",
    "    # Create a geodataframe from the point\n",
    "    point_gdf = gpd.GeoDataFrame(geometry=point)\n",
    "    # Set crs to epsg 3006\n",
    "    point_gdf.crs = \"EPSG:3006\"\n",
    "    # Get the closest point\n",
    "    o_gdf = origins[origins['id'] == closest_id]\n",
    "    # Plot the closest point\n",
    "    ax = o_gdf.plot(markersize=10)\n",
    "    ax.scatter(lon,lat, color='red', s=10)\n",
    "    # Draw a line between the two points and calculate the distance\n",
    "    line = LineString([(lon,lat), (o_gdf.geometry.x, o_gdf.geometry.y)])\n",
    "    x,y = line.xy\n",
    "    ax.plot(x,y, color='red', linewidth=1)\n",
    "    # Calculate the distance\n",
    "    distance = line.length\n",
    "    ax.set_title(f\"Distance from actual point to closest point: {distance:.2f} meters\")\n",
    "    # Add a legend\n",
    "    plt.legend(['Closest point', 'Actual point'])\n",
    "    return distance"
   ]
  },
  {
   "cell_type": "code",
   "execution_count": 181,
   "metadata": {},
   "outputs": [
    {
     "name": "stdout",
     "output_type": "stream",
     "text": [
      "13614\n"
     ]
    },
    {
     "data": {
      "text/plain": [
       "106.88578919454471"
      ]
     },
     "execution_count": 181,
     "metadata": {},
     "output_type": "execute_result"
    },
    {
     "data": {
      "image/png": "[encoded data removed]",
      "text/plain": [
       "<Figure size 640x480 with 1 Axes>"
      ]
     },
     "metadata": {},
     "output_type": "display_data"
    }
   ],
   "source": [
    "closest_id = get_closest_id(o_y, o_x, origins)\n",
    "print(closest_id)\n",
    "plot_closest_point(o_y, o_x, origins, closest_id)"
   ]
  },
  {
   "cell_type": "code",
   "execution_count": 182,
   "metadata": {},
   "outputs": [
    {
     "name": "stdout",
     "output_type": "stream",
     "text": [
      "13511\n"
     ]
    },
    {
     "data": {
      "text/plain": [
       "92.33261315692258"
      ]
     },
     "execution_count": 182,
     "metadata": {},
     "output_type": "execute_result"
    },
    {
     "data": {
      "image/png": "[encoded data removed]",
      "text/plain": [
       "<Figure size 640x480 with 1 Axes>"
      ]
     },
     "metadata": {},
     "output_type": "display_data"
    }
   ],
   "source": [
    "closest_id = get_closest_id(d_y, d_x, origins)\n",
    "print(closest_id)\n",
    "plot_closest_point(d_y, d_x, origins, closest_id)"
   ]
  },
  {
   "cell_type": "markdown",
   "metadata": {},
   "source": [
    "## Trying a KDTree"
   ]
  },
  {
   "cell_type": "code",
   "execution_count": 196,
   "metadata": {},
   "outputs": [],
   "source": [
    " import numpy as np\n",
    " from sklearn.neighbors import KDTree\n",
    "\n",
    "# Create a array of points with 2 dimensions (x and y) from the origins df\n",
    "points = np.array(origins[['geometry']].apply(lambda x: [x[0].x, x[0].y], axis=1).tolist())\n",
    "tree = KDTree(points)\n",
    "ids = origins['id'].to_numpy()\n",
    "\n",
    "def get_closest_id_tree(lat,lon,tree,ids):\n",
    "    dist,closest_idx = tree.query([[lon,lat]])\n",
    "    # Get closest id\n",
    "    closest_id = ids[closest_idx][0][0]\n",
    "    return closest_id"
   ]
  },
  {
   "cell_type": "code",
   "execution_count": 197,
   "metadata": {},
   "outputs": [
    {
     "name": "stdout",
     "output_type": "stream",
     "text": [
      "Time for processing: 0.000000 seconds\n",
      "13614\n"
     ]
    }
   ],
   "source": [
    "# Lets test the function using using o_x and o_y\n",
    "time_start = time.time()\n",
    "closest_id = get_closest_id_tree(o_y, o_x, tree,ids)\n",
    "# Print time for processing\n",
    "print(f\"Time for processing: {time.time() - time_start:.6f} seconds\")\n",
    "print(closest_id)"
   ]
  },
  {
   "cell_type": "code",
   "execution_count": 199,
   "metadata": {},
   "outputs": [
    {
     "name": "stdout",
     "output_type": "stream",
     "text": [
      "<class 'numpy.int64'>\n"
     ]
    },
    {
     "data": {
      "text/plain": [
       "106.88578919454471"
      ]
     },
     "execution_count": 199,
     "metadata": {},
     "output_type": "execute_result"
    },
    {
     "data": {
      "image/png": "[encoded data removed]",
      "text/plain": [
       "<Figure size 640x480 with 1 Axes>"
      ]
     },
     "metadata": {},
     "output_type": "display_data"
    }
   ],
   "source": [
    "closest_id = get_closest_id_tree(o_y, o_x, tree,ids)\n",
    "print(type(closest_id))\n",
    "plot_closest_point(o_y, o_x, origins, closest_id)"
   ]
  },
  {
   "cell_type": "code",
   "execution_count": 200,
   "metadata": {},
   "outputs": [
    {
     "name": "stdout",
     "output_type": "stream",
     "text": [
      "13511\n"
     ]
    },
    {
     "data": {
      "text/plain": [
       "92.33261315692258"
      ]
     },
     "execution_count": 200,
     "metadata": {},
     "output_type": "execute_result"
    },
    {
     "data": {
      "image/png": "[encoded data removed]",
      "text/plain": [
       "<Figure size 640x480 with 1 Axes>"
      ]
     },
     "metadata": {},
     "output_type": "display_data"
    }
   ],
   "source": [
    "closest_id = get_closest_id_tree(d_y, d_x, tree,ids)\n",
    "print(closest_id)\n",
    "plot_closest_point(d_y, d_x, origins, closest_id)"
   ]
  },
  {
   "cell_type": "code",
   "execution_count": 207,
   "metadata": {},
   "outputs": [],
   "source": [
    "# Comparing the two functions get_closest_id and get_closest_id_tree for 1, 10, 100, 1000, 10000 points from the origins df\n",
    "\n",
    "# List of the number of OD pairs to query in each experiment\n",
    "num_point_list = [1, 10, 100, 1000, 9000]\n",
    "\n",
    "# Using the origins df lets create a dict of pairs\n",
    "random_point_dict = {}\n",
    "\n",
    "for num_points in num_point_list:\n",
    "    # Efficiently sample random OD pairs using random.sample()\n",
    "    random_points = random.sample(points.tolist(), num_points)\n",
    "\n",
    "    # Store the random OD pairs\n",
    "    random_point_dict[num_points] = random_points"
   ]
  },
  {
   "cell_type": "code",
   "execution_count": 210,
   "metadata": {},
   "outputs": [
    {
     "name": "stdout",
     "output_type": "stream",
     "text": [
      "Total time for querying 1 random points: 0.015549 seconds\n",
      "Average time per call: 0.015549 seconds\n",
      "Total time for querying 10 random points: 0.140009 seconds\n",
      "Average time per call: 0.014001 seconds\n",
      "Total time for querying 100 random points: 1.309974 seconds\n",
      "Average time per call: 0.013100 seconds\n",
      "Total time for querying 1000 random points: 12.895093 seconds\n",
      "Average time per call: 0.012895 seconds\n",
      "Total time for querying 9000 random points: 115.895936 seconds\n",
      "Average time per call: 0.012877 seconds\n"
     ]
    }
   ],
   "source": [
    "# Lets first test the get_closest_id function\n",
    "for num_points, points in random_point_dict.items():\n",
    "    # Query the travel time for each origin-destination pair and measure the total time taken\n",
    "    start_time = time.perf_counter()\n",
    "    for point in points:\n",
    "        get_closest_id(point[1], point[0], origins)\n",
    "    total_query_time = time.perf_counter() - start_time\n",
    "\n",
    "    # Calculate the average time per query call\n",
    "    time_per_call = total_query_time / num_points\n",
    "\n",
    "    # Print the total time and average time per call for querying the specified number of OD pairs\n",
    "    print(f\"Total time for querying {num_points} random points: {total_query_time:.6f} seconds\")\n",
    "    print(f\"Average time per call: {time_per_call:.6f} seconds\")"
   ]
  },
  {
   "cell_type": "code",
   "execution_count": 211,
   "metadata": {},
   "outputs": [
    {
     "name": "stdout",
     "output_type": "stream",
     "text": [
      "Total time for querying 1 random points: 0.000355 seconds\n",
      "Average time per call: 0.000355 seconds\n",
      "Total time for querying 10 random points: 0.001297 seconds\n",
      "Average time per call: 0.000130 seconds\n",
      "Total time for querying 100 random points: 0.013414 seconds\n",
      "Average time per call: 0.000134 seconds\n",
      "Total time for querying 1000 random points: 0.111098 seconds\n",
      "Average time per call: 0.000111 seconds\n",
      "Total time for querying 9000 random points: 1.005964 seconds\n",
      "Average time per call: 0.000112 seconds\n"
     ]
    }
   ],
   "source": [
    "# Now lets test the get_closest_id_tree function\n",
    "for num_points, points in random_point_dict.items():\n",
    "    # Query the travel time for each origin-destination pair and measure the total time taken\n",
    "    start_time = time.perf_counter()\n",
    "    for point in points:\n",
    "        get_closest_id_tree(point[1], point[0], tree, ids)\n",
    "    total_query_time = time.perf_counter() - start_time\n",
    "\n",
    "    # Calculate the average time per query call\n",
    "    time_per_call = total_query_time / num_points\n",
    "\n",
    "    # Print the total time and average time per call for querying the specified number of OD pairs\n",
    "    print(f\"Total time for querying {num_points} random points: {total_query_time:.6f} seconds\")\n",
    "    print(f\"Average time per call: {time_per_call:.6f} seconds\")"
   ]
  },
  {
   "cell_type": "markdown",
   "metadata": {},
   "source": [
    "# Combining it all\n",
    "\n",
    "Finally, what we really need is a way to get transit times between two random points.\n",
    "\n",
    "| Query Count | Total Time (seconds) | Average Time per Call (seconds) |\n",
    "|-------------|-----------------------|---------------------------------|\n",
    "| 1           | 2.058234              | 2.058234                        |\n",
    "| 10          | 2.055068              | 0.205507                        |\n",
    "| 100         | 2.097684              | 0.020977                        |\n",
    "| 1000        | 2.015695              | 0.002016                        |\n",
    "| 9000        | 2.032059              | 0.000226                        |\n",
    "\n",
    "This table summarizes the total time taken and the average time per call for querying different numbers of random OD pairs. While the total time remains the same, the average time per call is going down. This indicates that there is a 2 second overhead in the querying function.\n",
    "\n",
    "But this can be avoided if you don't want the overhead of objectifying this process."
   ]
  },
  {
   "cell_type": "code",
   "execution_count": 258,
   "metadata": {},
   "outputs": [],
   "source": [
    "# Lets expand the ODMatrix class\n",
    "class ODMatrix:\n",
    "    def __init__(self, hdf5_path,origins_gdf):\n",
    "        self.hdf5_path = hdf5_path\n",
    "        self.travel_times_dict = {}\n",
    "        self.origins_gdf = origins_gdf\n",
    "        self.points = np.array(self.origins_gdf[['geometry']].apply(lambda x: [x[0].x, x[0].y], axis=1).tolist())\n",
    "        self.tree = KDTree(self.points)\n",
    "        self.ids = self.origins_gdf['id'].to_numpy()\n",
    "        self.preprocess_data()\n",
    "\n",
    "\n",
    "    def preprocess_data(self):\n",
    "        \"\"\"Preprocess the data from the HDF5 file and store it in a dictionary for fast lookups.\"\"\"\n",
    "        with h5py.File(self.hdf5_path, 'r') as hdf5_file:\n",
    "\n",
    "\n",
    "            # Proceed with the existing logic if datasets are present\n",
    "            dataset_size = hdf5_file['from_id'].shape[0]\n",
    "            batch_size = 10000  # Adjust based on your system's memory capacity\n",
    "\n",
    "            for i in range(0, dataset_size, batch_size):\n",
    "                from_ids = hdf5_file['from_id'][i:i+batch_size]\n",
    "                to_ids = hdf5_file['to_id'][i:i+batch_size]\n",
    "                travel_times = hdf5_file['travel_time'][i:i+batch_size]\n",
    "                \n",
    "                for from_id, to_id, travel_time in zip(from_ids, to_ids, travel_times):\n",
    "                    self.travel_times_dict[(from_id, to_id)] = travel_time\n",
    "    \n",
    "    def get_closest_id_tree(self,lat,lon):\n",
    "        dist,closest_idx = self.tree.query([[lon,lat]])\n",
    "        # Get closest id\n",
    "        closest_id = self.ids[closest_idx][0][0]\n",
    "        return closest_id\n",
    "    \n",
    "    def query_travel_time(self,o,d):\n",
    "        # Get closest id\n",
    "        origin_closest_id = self.get_closest_id_tree(o[1], o[0])\n",
    "        # Get closest id\n",
    "        destination_closest_id = self.get_closest_id_tree(d[1], d[0])\n",
    "        # Query the travel time for a given origin and destination ID pair.\n",
    "        travel_time = self.travel_times_dict.get((origin_closest_id, destination_closest_id), None)\n",
    "        return travel_time\n"
   ]
  },
  {
   "cell_type": "code",
   "execution_count": 236,
   "metadata": {},
   "outputs": [],
   "source": [
    "# Test the class\n",
    "od_matrix = ODMatrix(path_to_hdf5, origins)"
   ]
  },
  {
   "cell_type": "code",
   "execution_count": 240,
   "metadata": {},
   "outputs": [
    {
     "name": "stdout",
     "output_type": "stream",
     "text": [
      "Time for processing: 0.001159 seconds\n",
      "54\n"
     ]
    }
   ],
   "source": [
    "# Testing the query_travel_time function\n",
    "time_start = time.time()\n",
    "travel_time = od_matrix.query_travel_time([o_x,o_y], [d_x,d_y])\n",
    "# Print time for processing\n",
    "print(f\"Time for processing: {time.time() - time_start:.6f} seconds\")\n",
    "print(travel_time)\n"
   ]
  },
  {
   "cell_type": "code",
   "execution_count": 251,
   "metadata": {},
   "outputs": [],
   "source": [
    "# Testing this at scale\n",
    "# List of the number of OD pairs to query in each experiment\n",
    "num_pairs_list = [1, 10, 100, 1000, 9000]\n",
    "\n",
    "# Convert the dictionary keys to a list once, outside the loop\n",
    "points = np.array(origins[['geometry']].apply(lambda x: [x[0].x, x[0].y], axis=1).tolist())\n",
    "\n",
    "# Pre-generate all random OD pairs and store them\n",
    "random_os = {}\n",
    "random_ds = {}\n",
    "\n",
    "for num_pairs in num_pairs_list:\n",
    "    \n",
    "    # Efficiently sample random OD pairs using random.sample()\n",
    "    random_os = random.sample(points.tolist(), num_pairs)\n",
    "    random_ds = random.sample(points.tolist(), num_pairs)\n",
    "\n",
    "    # Store the random OD pairs\n",
    "    random_od_pairs_dict[num_pairs] = random_od_pairs\n"
   ]
  },
  {
   "cell_type": "code",
   "execution_count": 257,
   "metadata": {},
   "outputs": [
    {
     "name": "stdout",
     "output_type": "stream",
     "text": [
      "Total time for querying 1 random OD pairs: 2.058234 seconds\n",
      "Average time per call: 2.058234 seconds\n",
      "Total time for querying 10 random OD pairs: 2.055068 seconds\n",
      "Average time per call: 0.205507 seconds\n",
      "Total time for querying 100 random OD pairs: 2.097684 seconds\n",
      "Average time per call: 0.020977 seconds\n",
      "Total time for querying 1000 random OD pairs: 2.015695 seconds\n",
      "Average time per call: 0.002016 seconds\n",
      "Total time for querying 9000 random OD pairs: 2.032059 seconds\n",
      "Average time per call: 0.000226 seconds\n"
     ]
    }
   ],
   "source": [
    "# Iterate over the stored OD pairs and measure query times\n",
    "for num_pairs, od_pairs in random_od_pairs_dict.items():\n",
    "    # Query the travel time for each origin-destination pair and measure the total time taken\n",
    "    start_time = time.perf_counter()\n",
    "    for o,d in zip(random_os,random_ds):\n",
    "        od_matrix.query_travel_time(o, d)\n",
    "    total_query_time = time.perf_counter() - start_time\n",
    "    \n",
    "    # Calculate the average time per query call\n",
    "    time_per_call = total_query_time / num_pairs\n",
    "\n",
    "    # Print the total time and average time per call for querying the specified number of OD pairs\n",
    "    print(f\"Total time for querying {num_pairs} random OD pairs: {total_query_time:.6f} seconds\")\n",
    "    print(f\"Average time per call: {time_per_call:.6f} seconds\")\n",
    "    "
   ]
  }
 ],
 "metadata": {
  "kernelspec": {
   "display_name": "tripsender",
   "language": "python",
   "name": "python3"
  },
  "language_info": {
   "codemirror_mode": {
    "name": "ipython",
    "version": 3
   },
   "file_extension": ".py",
   "mimetype": "text/x-python",
   "name": "python",
   "nbconvert_exporter": "python",
   "pygments_lexer": "ipython3",
   "version": "3.8.17"
  }
 },
 "nbformat": 4,
 "nbformat_minor": 2
}
